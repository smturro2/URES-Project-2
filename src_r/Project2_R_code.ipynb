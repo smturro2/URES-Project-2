{
 "cells": [
  {
   "cell_type": "markdown",
   "metadata": {
    "id": "oglB9kt5Vp4y"
   },
   "source": [
    "# Gibbs Sampling"
   ]
  },
  {
   "cell_type": "markdown",
   "metadata": {
    "id": "3XFCWoQ0V7wn"
   },
   "source": [
    "## 1. Initialize $\\Theta^{(0)}$, $\\pi^{(0)}$,$\\kappa^{(0)}$."
   ]
  },
  {
   "cell_type": "code",
   "execution_count": 1,
   "metadata": {
    "id": "Ifxd3XVTPQP5"
   },
   "outputs": [],
   "source": [
    "# Desc:\n",
    "#   Initalizes the parameters.\n",
    "#   Assume theta0 follows an uniform distribution theta0 ~ beta(1,1)\n",
    "#   Assume kappa0 follows an uniform distribution kappa0 ~ dirichlet(1)\n",
    "# Input: \n",
    "#   data: a N * P matrix\n",
    "#   C: the number of category.\n",
    "# Output:\n",
    "#   list(theta0, pi0, kappa0)\n",
    "#   beta0: prior of theta, c(a, b)\n",
    "#   pi0: initial pi\n",
    "#   kappa0: initial kappa\n",
    "\n",
    "gibbs_init = function(data, C) {\n",
    "  beta0  = c(1,1)\n",
    "  pi0 = rep(1/C, C)\n",
    "  kappa0 = sample(1:C, dim(data)[1], replace = TRUE)\n",
    "  alpha0 = rep(1,C)\n",
    "  return(list(beta0 = beta0, pi0 = pi0, kappa0 = kappa0, alpha0 = alpha0))\n",
    "}"
   ]
  },
  {
   "cell_type": "code",
   "execution_count": 2,
   "metadata": {
    "id": "Bkb8cWcHz2a_"
   },
   "outputs": [
    {
     "data": {
      "text/html": [
       "<dl>\n",
       "\t<dt>$beta0</dt>\n",
       "\t\t<dd><ol class=list-inline>\n",
       "\t<li>1</li>\n",
       "\t<li>1</li>\n",
       "</ol>\n",
       "</dd>\n",
       "\t<dt>$pi0</dt>\n",
       "\t\t<dd><ol class=list-inline>\n",
       "\t<li>0.5</li>\n",
       "\t<li>0.5</li>\n",
       "</ol>\n",
       "</dd>\n",
       "\t<dt>$kappa0</dt>\n",
       "\t\t<dd><ol class=list-inline>\n",
       "\t<li>2</li>\n",
       "\t<li>2</li>\n",
       "\t<li>2</li>\n",
       "\t<li>1</li>\n",
       "\t<li>1</li>\n",
       "</ol>\n",
       "</dd>\n",
       "\t<dt>$alpha0</dt>\n",
       "\t\t<dd><ol class=list-inline>\n",
       "\t<li>1</li>\n",
       "\t<li>1</li>\n",
       "</ol>\n",
       "</dd>\n",
       "</dl>\n"
      ],
      "text/latex": [
       "\\begin{description}\n",
       "\\item[\\$beta0] \\begin{enumerate*}\n",
       "\\item 1\n",
       "\\item 1\n",
       "\\end{enumerate*}\n",
       "\n",
       "\\item[\\$pi0] \\begin{enumerate*}\n",
       "\\item 0.5\n",
       "\\item 0.5\n",
       "\\end{enumerate*}\n",
       "\n",
       "\\item[\\$kappa0] \\begin{enumerate*}\n",
       "\\item 2\n",
       "\\item 2\n",
       "\\item 2\n",
       "\\item 1\n",
       "\\item 1\n",
       "\\end{enumerate*}\n",
       "\n",
       "\\item[\\$alpha0] \\begin{enumerate*}\n",
       "\\item 1\n",
       "\\item 1\n",
       "\\end{enumerate*}\n",
       "\n",
       "\\end{description}\n"
      ],
      "text/markdown": [
       "$beta0\n",
       ":   1. 1\n",
       "2. 1\n",
       "\n",
       "\n",
       "\n",
       "$pi0\n",
       ":   1. 0.5\n",
       "2. 0.5\n",
       "\n",
       "\n",
       "\n",
       "$kappa0\n",
       ":   1. 2\n",
       "2. 2\n",
       "3. 2\n",
       "4. 1\n",
       "5. 1\n",
       "\n",
       "\n",
       "\n",
       "$alpha0\n",
       ":   1. 1\n",
       "2. 1\n",
       "\n",
       "\n",
       "\n",
       "\n",
       "\n"
      ],
      "text/plain": [
       "$beta0\n",
       "[1] 1 1\n",
       "\n",
       "$pi0\n",
       "[1] 0.5 0.5\n",
       "\n",
       "$kappa0\n",
       "[1] 2 2 2 1 1\n",
       "\n",
       "$alpha0\n",
       "[1] 1 1\n"
      ]
     },
     "metadata": {},
     "output_type": "display_data"
    }
   ],
   "source": [
    "# test data\n",
    "data = matrix(c(1,0,1,0,0,1,1,0,0,1,1,1,1,0,0,1,1,0,0,0), nrow=5, ncol=4, byrow = TRUE)\n",
    "C = 2\n",
    "gibbs_init(data, C)"
   ]
  },
  {
   "cell_type": "markdown",
   "metadata": {
    "id": "DG27wHuPYUe9"
   },
   "source": [
    "## 2. Sample $\\Theta^{(t)}| X, \\kappa^{(t-1)}$ "
   ]
  },
  {
   "cell_type": "code",
   "execution_count": 3,
   "metadata": {
    "id": "PMlVUl_CUnt4"
   },
   "outputs": [],
   "source": [
    "# Desc:\n",
    "#   Samples the theta parameters using a beta distrobution\n",
    "# Input:\n",
    "#   data: a N * P matrix\n",
    "#   beta0: prior of theta, c(a, b)\n",
    "#   kappa0: current kappa\n",
    "# Output:\n",
    "#   theta: updated theta, a C * P matrix\n",
    "\n",
    "sample_theta = function(data, beta0, kappa0, C) {\n",
    "  theta1 = matrix(rep(0,C*dim(data)[2]), nrow=C, ncol=dim(data)[2])\n",
    "  for (c in 1:C) {\n",
    "    data_c = data[which(kappa0 == c),]\n",
    "    n_c = dim(data_c)[1]\n",
    "    # Handle the case where data_c is a vector\n",
    "    if(is.null(n_c)){\n",
    "      n_c = length(data_c)\n",
    "      n_cj = data_c\n",
    "    }\n",
    "    else{\n",
    "      n_cj = colSums(data_c)\n",
    "    }\n",
    "    for (j in 1:length(n_cj)) {\n",
    "      n_cj[j] = rbeta(1, beta0[1]+n_cj[j], beta0[2]+n_c-n_cj[j])\n",
    "    }\n",
    "    theta1[c,] = n_cj\n",
    "  }\n",
    "  return(theta1)\n",
    "}"
   ]
  },
  {
   "cell_type": "code",
   "execution_count": 4,
   "metadata": {
    "id": "PgsBZviMpst9"
   },
   "outputs": [
    {
     "data": {
      "text/html": [
       "<table>\n",
       "<tbody>\n",
       "\t<tr><td>0.7571081 </td><td>0.2896043 </td><td>0.8341133 </td><td>0.41821373</td></tr>\n",
       "\t<tr><td>0.4431751 </td><td>0.4149270 </td><td>0.2297970 </td><td>0.05560299</td></tr>\n",
       "</tbody>\n",
       "</table>\n"
      ],
      "text/latex": [
       "\\begin{tabular}{llll}\n",
       "\t 0.7571081  & 0.2896043  & 0.8341133  & 0.41821373\\\\\n",
       "\t 0.4431751  & 0.4149270  & 0.2297970  & 0.05560299\\\\\n",
       "\\end{tabular}\n"
      ],
      "text/markdown": [
       "\n",
       "| 0.7571081  | 0.2896043  | 0.8341133  | 0.41821373 |\n",
       "| 0.4431751  | 0.4149270  | 0.2297970  | 0.05560299 |\n",
       "\n"
      ],
      "text/plain": [
       "     [,1]      [,2]      [,3]      [,4]      \n",
       "[1,] 0.7571081 0.2896043 0.8341133 0.41821373\n",
       "[2,] 0.4431751 0.4149270 0.2297970 0.05560299"
      ]
     },
     "metadata": {},
     "output_type": "display_data"
    }
   ],
   "source": [
    "# test data\n",
    "data = matrix(c(1,0,1,0,0,1,1,0,0,1,1,1,1,0,0,1,1,0,0,0), nrow=5, ncol=4, byrow = TRUE)\n",
    "theta0 = c(1,1)\n",
    "kappa0 = c(1,2,1,1,2)\n",
    "C = 2\n",
    "sample_theta(data, theta0, kappa0, C)"
   ]
  },
  {
   "cell_type": "markdown",
   "metadata": {
    "id": "eDU6_QYf09sM"
   },
   "source": [
    "## 3. Sample $\\kappa^{(t)}| X,\\Theta^{(t)},\\pi^{(t-1)}$"
   ]
  },
  {
   "cell_type": "code",
   "execution_count": 5,
   "metadata": {
    "id": "tW0Ev6YI1Y4i"
   },
   "outputs": [],
   "source": [
    "# Desc:\n",
    "#   Samples the category assignments using a categorical distrobution\n",
    "# Input:\n",
    "#   data: a N * P matrix\n",
    "#   theta: current theta, a C * P matrix\n",
    "#   C: number of category\n",
    "#   pi0: current pi\n",
    "# Output:\n",
    "#   kappa1: updated kappa, a vector of length N\n",
    "\n",
    "sample_kappa = function(data, theta, C, pi0) {\n",
    "  kappa1 = rep(NA, dim(data)[1])\n",
    "  for (i in 1:dim(data)[1]) {\n",
    "    prob = rep(NA, C)\n",
    "    for (c in 1:C) {\n",
    "      prob[c] = prod((theta[c,]^data[i,])*((1 - theta[c,])^(1 - data[i,]))) * pi0[c]\n",
    "    }\n",
    "    prob = prob / sum(prob)\n",
    "    kappa1[i] = sample(1:C, 1, replace = TRUE, prob = prob)\n",
    "  }\n",
    "  return(kappa1)\n",
    "}"
   ]
  },
  {
   "cell_type": "code",
   "execution_count": 6,
   "metadata": {
    "id": "haGZwwSpH7sW"
   },
   "outputs": [
    {
     "data": {
      "text/html": [
       "<ol class=list-inline>\n",
       "\t<li>1</li>\n",
       "\t<li>0</li>\n",
       "\t<li>1</li>\n",
       "\t<li>0</li>\n",
       "</ol>\n"
      ],
      "text/latex": [
       "\\begin{enumerate*}\n",
       "\\item 1\n",
       "\\item 0\n",
       "\\item 1\n",
       "\\item 0\n",
       "\\end{enumerate*}\n"
      ],
      "text/markdown": [
       "1. 1\n",
       "2. 0\n",
       "3. 1\n",
       "4. 0\n",
       "\n",
       "\n"
      ],
      "text/plain": [
       "[1] 1 0 1 0"
      ]
     },
     "metadata": {},
     "output_type": "display_data"
    }
   ],
   "source": [
    "data = matrix(c(1,0,1,0,0,1,1,0,0,1,1,1,1,0,0,1,1,0,0,0), nrow=5, ncol=4, byrow = TRUE)\n",
    "data[1,]"
   ]
  },
  {
   "cell_type": "code",
   "execution_count": 7,
   "metadata": {
    "id": "qZi9z5w_1eq8"
   },
   "outputs": [],
   "source": [
    "# test data\n",
    "data = matrix(c(1,0,1,0,0,1,1,0,0,1,1,1,1,0,0,1,1,0,0,0), nrow=5, ncol=4, byrow = TRUE)\n",
    "theta = sample_theta(data, theta0, kappa0, C)\n",
    "C = 2\n",
    "pi0 = c(0.5, 0.5)\n",
    "#sample_kappa(data, theta, C, pi0)"
   ]
  },
  {
   "cell_type": "markdown",
   "metadata": {
    "id": "M4yawfxJW-Bm"
   },
   "source": [
    "## 4. Sample $\\pi^{(t)} | \\kappa^{(t)}$"
   ]
  },
  {
   "cell_type": "code",
   "execution_count": 8,
   "metadata": {
    "id": "h8qvh1bqW3PP"
   },
   "outputs": [
    {
     "name": "stderr",
     "output_type": "stream",
     "text": [
      "also installing the dependencies 'miscTools', 'sandwich', 'Formula', 'maxLik'\n",
      "\n"
     ]
    },
    {
     "name": "stdout",
     "output_type": "stream",
     "text": [
      "\n",
      "  There are binary versions available but the source versions are later:\n",
      "             binary source needs_compilation\n",
      "sandwich      3.0-0  3.0-1             FALSE\n",
      "maxLik        1.4-8  1.5-2             FALSE\n",
      "DirichletReg  0.7-0  0.7-1              TRUE\n",
      "\n",
      "  Binaries will be installed\n",
      "package 'miscTools' successfully unpacked and MD5 sums checked\n",
      "package 'Formula' successfully unpacked and MD5 sums checked\n",
      "package 'DirichletReg' successfully unpacked and MD5 sums checked\n",
      "\n",
      "The downloaded binary packages are in\n",
      "\tC:\\Users\\Scott Turro\\AppData\\Local\\Temp\\Rtmp27TyFS\\downloaded_packages\n"
     ]
    },
    {
     "name": "stderr",
     "output_type": "stream",
     "text": [
      "installing the source packages 'sandwich', 'maxLik'\n",
      "\n"
     ]
    }
   ],
   "source": [
    "install.packages('DirichletReg')"
   ]
  },
  {
   "cell_type": "code",
   "execution_count": 9,
   "metadata": {
    "id": "yH7aqUbKlARR"
   },
   "outputs": [
    {
     "name": "stderr",
     "output_type": "stream",
     "text": [
      "Loading required package: DirichletReg\n",
      "Warning message:\n",
      "\"package 'DirichletReg' was built under R version 3.6.3\"Loading required package: Formula\n",
      "Warning message:\n",
      "\"package 'Formula' was built under R version 3.6.3\""
     ]
    },
    {
     "data": {
      "text/html": [
       "<table>\n",
       "<tbody>\n",
       "\t<tr><td>0.4640756 </td><td>0.09550976</td><td>0.4404146 </td></tr>\n",
       "</tbody>\n",
       "</table>\n"
      ],
      "text/latex": [
       "\\begin{tabular}{lll}\n",
       "\t 0.4640756  & 0.09550976 & 0.4404146 \\\\\n",
       "\\end{tabular}\n"
      ],
      "text/markdown": [
       "\n",
       "| 0.4640756  | 0.09550976 | 0.4404146  |\n",
       "\n"
      ],
      "text/plain": [
       "     [,1]      [,2]       [,3]     \n",
       "[1,] 0.4640756 0.09550976 0.4404146"
      ]
     },
     "metadata": {},
     "output_type": "display_data"
    }
   ],
   "source": [
    "require('DirichletReg')\n",
    "rdirichlet(1, c(5,5,10))"
   ]
  },
  {
   "cell_type": "code",
   "execution_count": 10,
   "metadata": {
    "id": "IYIujIENex83"
   },
   "outputs": [],
   "source": [
    "# Desc:\n",
    "#   Samples the class probabilities using a dirichlet distrobution\n",
    "# Input:\n",
    "#   alphas: length C vector of alphas\n",
    "# Output:\n",
    "#   pi: class probabilities vector of length C\n",
    "sample_pi = function(alphas) {\n",
    "  # calculate alpha estimators?\n",
    "  # can be equal to 1\n",
    "  pi = rdirichlet(1, alphas)\n",
    "  return(pi)\n",
    "}"
   ]
  },
  {
   "cell_type": "code",
   "execution_count": 11,
   "metadata": {
    "id": "bPc7p1QDWfkL"
   },
   "outputs": [],
   "source": [
    "# Desc:\n",
    "#   Samples the class probabilities using a dirichlet distrobution\n",
    "# Input:\n",
    "#   alpha0: length C vector of alphas\n",
    "#   kappa0: length C vector of alphas\n",
    "#   C: Number categories\n",
    "# Output:\n",
    "#   pi1: class probabilities vector of length C \n",
    "sample_pi = function(data, alpha0, kappa0, C) {\n",
    "  pi1 = rep(NA, C)\n",
    "  for (c in 1:C) {\n",
    "    data_c = data[which(kappa0 == c),]\n",
    "    n_c = dim(data_c)[1]\n",
    "    # Handle the case where data_c is a vector\n",
    "    if(is.null(n_c)){\n",
    "      n_c = length(data_c)\n",
    "    }\n",
    "    alpha1 = alpha0[c] + n_c\n",
    "    pi1[c] = rgamma(1,alpha1)\n",
    "  }\n",
    "  pi1 = pi1 / sum(pi1)\n",
    "  return(pi1)\n",
    "}"
   ]
  },
  {
   "cell_type": "code",
   "execution_count": 12,
   "metadata": {
    "id": "pZdEdl17bl43"
   },
   "outputs": [],
   "source": [
    "# test data\n",
    "data = matrix(c(1,0,1,0,0,1,1,0,0,1,1,1,1,0,0,1,1,0,0,0), nrow=5, ncol=4, byrow = TRUE)\n",
    "theta = sample_theta(data, theta0, kappa0, C)\n",
    "C = 2\n",
    "pi0 = c(0.5, 0.5)\n",
    "alpha0 = c(1,1)\n",
    "kappa0 = sample_kappa(data, theta, C, pi0)"
   ]
  },
  {
   "cell_type": "code",
   "execution_count": 13,
   "metadata": {
    "id": "DUsDldWocRJj"
   },
   "outputs": [
    {
     "data": {
      "text/html": [
       "<ol class=list-inline>\n",
       "\t<li>0.737441604656089</li>\n",
       "\t<li>0.262558395343911</li>\n",
       "</ol>\n"
      ],
      "text/latex": [
       "\\begin{enumerate*}\n",
       "\\item 0.737441604656089\n",
       "\\item 0.262558395343911\n",
       "\\end{enumerate*}\n"
      ],
      "text/markdown": [
       "1. 0.737441604656089\n",
       "2. 0.262558395343911\n",
       "\n",
       "\n"
      ],
      "text/plain": [
       "[1] 0.7374416 0.2625584"
      ]
     },
     "metadata": {},
     "output_type": "display_data"
    }
   ],
   "source": [
    "sample_pi(data, alpha0, kappa0, C)"
   ]
  },
  {
   "cell_type": "markdown",
   "metadata": {
    "id": "iSxrIhPZKvE3"
   },
   "source": [
    "## Top Level Function"
   ]
  },
  {
   "cell_type": "code",
   "execution_count": 14,
   "metadata": {
    "id": "0GWTEIVSdppF"
   },
   "outputs": [],
   "source": [
    "# Desc:\n",
    "#   Main function to run the gibbs sampling algorithm \n",
    "#   and cluster the data\n",
    "# Input: \n",
    "#   data: a N * P matrix\n",
    "#   C: the number of category.\n",
    "#   n: max number of iterations\n",
    "#   b: number of burn ins\n",
    "# Output:\n",
    "#   list(prob, cate, theta)\n",
    "#   prob: Samples for pi with dim (n-b, C)\n",
    "#   cate: Samples for kappa with dim (n-b, N)\n",
    "#   theta: Samples for theta with dim (n-b, c, P)\n",
    "\n",
    "mix_binom = function(data, C, n, b=2) {\n",
    "  init_value = gibbs_init(data, C)\n",
    "  curr_kappa = init_value$kappa0\n",
    "  beta0 = init_value$beta0\n",
    "  alpha0 = init_value$alpha0\n",
    "  curr_pi = init_value$pi0\n",
    "  theta_l = array(rep(NA, (n-b)*C*dim(data)[2]),c((n-b),C,dim(data)[2]))\n",
    "  kappa_l = matrix(rep(NA, (n-b)*dim(data)[1]),nrow = (n-b), ncol = dim(data)[1])\n",
    "  pi_l = matrix(rep(NA, (n-b)*C), nrow = (n-b), ncol = C)\n",
    "  for (i in 1:n) {\n",
    "    curr_theta = sample_theta(data, beta0, curr_kappa, C)\n",
    "    curr_kappa = sample_kappa(data, curr_theta, C, curr_pi)\n",
    "    curr_pi = sample_pi(data, alpha0, curr_kappa, C)\n",
    "    if (i > b) {\n",
    "      theta_l[i-b,,] = curr_theta\n",
    "      kappa_l[i-b,] = curr_kappa\n",
    "      pi_l[i-b,] = curr_pi\n",
    "    }\n",
    "  }\n",
    "  return(list(prob = pi_l, cate = kappa_l, theta = theta_l))\n",
    "}"
   ]
  },
  {
   "cell_type": "code",
   "execution_count": 15,
   "metadata": {
    "id": "sg-8Mq1ZgURi"
   },
   "outputs": [
    {
     "name": "stdout",
     "output_type": "stream",
     "text": [
      "dimensions of outputs \n",
      "$prob - 98 2 \n",
      "$cat - 98 5 \n",
      "$theta - 98 2 4 \n"
     ]
    }
   ],
   "source": [
    "# Test with input as a matrix\n",
    "test_output = mix_binom(data,2,100)\n",
    "cat(\"dimensions of outputs\",end=\"\\n\")\n",
    "cat(\"$prob -\",dim(test_output$prob),end=\"\\n\")\n",
    "cat(\"$cat -\",dim(test_output$cat),end=\"\\n\")\n",
    "cat(\"$theta -\",dim(test_output$theta),end=\"\\n\")"
   ]
  },
  {
   "cell_type": "code",
   "execution_count": 16,
   "metadata": {
    "id": "y36AQDQ8_oj7"
   },
   "outputs": [
    {
     "name": "stdout",
     "output_type": "stream",
     "text": [
      "dimensions of outputs \n",
      "$prob - 98 2 \n",
      "$cat - 98 5 \n",
      "$theta - 98 2 4 \n"
     ]
    }
   ],
   "source": [
    "# Test with input as a dataframe\n",
    "test_output = mix_binom(data.frame(data),2,100)\n",
    "cat(\"dimensions of outputs\",end=\"\\n\")\n",
    "cat(\"$prob -\",dim(test_output$prob),end=\"\\n\")\n",
    "cat(\"$cat -\",dim(test_output$cat),end=\"\\n\")\n",
    "cat(\"$theta -\",dim(test_output$theta),end=\"\\n\")"
   ]
  },
  {
   "cell_type": "code",
   "execution_count": 17,
   "metadata": {
    "id": "KJiOKxc9g5eO"
   },
   "outputs": [],
   "source": [
    "init_value = gibbs_init(data, C)\n",
    "curr_kappa = init_value$kappa0\n",
    "beta0 = init_value$beta0\n",
    "alpha0 = init_value$alpha0\n",
    "curr_pi = init_value$pi0"
   ]
  },
  {
   "cell_type": "code",
   "execution_count": 18,
   "metadata": {
    "id": "hQ1lhNzzg8J5"
   },
   "outputs": [
    {
     "data": {
      "text/html": [
       "20"
      ],
      "text/latex": [
       "20"
      ],
      "text/markdown": [
       "20"
      ],
      "text/plain": [
       "[1] 20"
      ]
     },
     "metadata": {},
     "output_type": "display_data"
    }
   ],
   "source": [
    "length(data)\n",
    "#colSums(data)"
   ]
  },
  {
   "cell_type": "code",
   "execution_count": 19,
   "metadata": {
    "id": "9C11YF2uIjzZ"
   },
   "outputs": [],
   "source": [
    "# 500 obs, 10-20 questions"
   ]
  },
  {
   "cell_type": "markdown",
   "metadata": {
    "id": "uinnACbxFKnn"
   },
   "source": [
    "# Testing on NPI data"
   ]
  },
  {
   "cell_type": "code",
   "execution_count": 20,
   "metadata": {
    "id": "lQ1oOF2XFT0n"
   },
   "outputs": [
    {
     "name": "stderr",
     "output_type": "stream",
     "text": [
      "also installing the dependencies 'credentials', 'openssl', 'zip', 'gitcreds', 'ini', 'fastmap', 'diffobj', 'desc', 'gert', 'gh', 'rappdirs', 'processx', 'cachem', 'xopen', 'brew', 'commonmark', 'purrr', 'cpp11', 'brio', 'ps', 'waldo', 'usethis', 'callr', 'cli', 'ellipsis', 'fs', 'httr', 'lifecycle', 'memoise', 'pkgbuild', 'pkgload', 'rcmdcheck', 'rlang', 'roxygen2', 'rstudioapi', 'rversions', 'sessioninfo', 'testthat', 'withr'\n",
      "\n"
     ]
    },
    {
     "name": "stdout",
     "output_type": "stream",
     "text": [
      "\n",
      "  There are binary versions available but the source versions are later:\n",
      "            binary source needs_compilation\n",
      "credentials  1.3.0  1.3.1             FALSE\n",
      "openssl      1.4.4  1.4.5              TRUE\n",
      "zip          2.1.1  2.2.0              TRUE\n",
      "diffobj      0.3.4  0.3.5              TRUE\n",
      "desc         1.3.0  1.4.0             FALSE\n",
      "gert         1.3.0  1.4.1              TRUE\n",
      "cachem       1.0.4  1.0.6              TRUE\n",
      "cpp11        0.2.7  0.4.0             FALSE\n",
      "waldo        0.2.5  0.3.1             FALSE\n",
      "usethis      2.0.1  2.1.3             FALSE\n",
      "cli          2.5.0  3.1.0              TRUE\n",
      "lifecycle    1.0.0  1.0.1             FALSE\n",
      "pkgload      1.2.1  1.2.3             FALSE\n",
      "rcmdcheck    1.3.3  1.4.0             FALSE\n",
      "rlang       0.4.11 0.4.12              TRUE\n",
      "roxygen2     7.1.1  7.1.2              TRUE\n",
      "rversions    2.0.2  2.1.1             FALSE\n",
      "testthat     3.0.2  3.1.0              TRUE\n",
      "devtools     2.4.1  2.4.2             FALSE\n",
      "\n",
      "  Binaries will be installed\n",
      "package 'openssl' successfully unpacked and MD5 sums checked\n",
      "package 'zip' successfully unpacked and MD5 sums checked\n",
      "package 'gitcreds' successfully unpacked and MD5 sums checked\n",
      "package 'ini' successfully unpacked and MD5 sums checked\n",
      "package 'fastmap' successfully unpacked and MD5 sums checked\n",
      "package 'diffobj' successfully unpacked and MD5 sums checked\n",
      "package 'gert' successfully unpacked and MD5 sums checked\n",
      "package 'gh' successfully unpacked and MD5 sums checked\n",
      "package 'rappdirs' successfully unpacked and MD5 sums checked\n",
      "package 'processx' successfully unpacked and MD5 sums checked\n",
      "package 'cachem' successfully unpacked and MD5 sums checked\n",
      "package 'xopen' successfully unpacked and MD5 sums checked\n",
      "package 'brew' successfully unpacked and MD5 sums checked\n",
      "package 'commonmark' successfully unpacked and MD5 sums checked\n",
      "package 'purrr' successfully unpacked and MD5 sums checked\n",
      "package 'brio' successfully unpacked and MD5 sums checked\n",
      "package 'ps' successfully unpacked and MD5 sums checked\n",
      "package 'callr' successfully unpacked and MD5 sums checked\n",
      "package 'cli' successfully unpacked and MD5 sums checked\n",
      "package 'ellipsis' successfully unpacked and MD5 sums checked\n",
      "package 'fs' successfully unpacked and MD5 sums checked\n",
      "package 'httr' successfully unpacked and MD5 sums checked\n",
      "package 'memoise' successfully unpacked and MD5 sums checked\n",
      "package 'pkgbuild' successfully unpacked and MD5 sums checked\n",
      "package 'rlang' successfully unpacked and MD5 sums checked\n",
      "package 'roxygen2' successfully unpacked and MD5 sums checked\n",
      "package 'rstudioapi' successfully unpacked and MD5 sums checked\n",
      "package 'sessioninfo' successfully unpacked and MD5 sums checked\n",
      "package 'testthat' successfully unpacked and MD5 sums checked\n",
      "package 'withr' successfully unpacked and MD5 sums checked\n",
      "\n",
      "The downloaded binary packages are in\n",
      "\tC:\\Users\\Scott Turro\\AppData\\Local\\Temp\\Rtmp27TyFS\\downloaded_packages\n"
     ]
    },
    {
     "name": "stderr",
     "output_type": "stream",
     "text": [
      "installing the source packages 'credentials', 'desc', 'cpp11', 'waldo', 'usethis', 'lifecycle', 'pkgload', 'rcmdcheck', 'rversions', 'devtools'\n",
      "\n",
      "Warning message in install.packages(\"devtools\"):\n",
      "\"installation of package 'rcmdcheck' had non-zero exit status\"Warning message in install.packages(\"devtools\"):\n",
      "\"installation of package 'devtools' had non-zero exit status\""
     ]
    },
    {
     "ename": "ERROR",
     "evalue": "Error in loadNamespace(name): there is no package called 'devtools'\n",
     "output_type": "error",
     "traceback": [
      "Error in loadNamespace(name): there is no package called 'devtools'\nTraceback:\n",
      "1. devtools::install_github",
      "2. getExportedValue(pkg, name)",
      "3. asNamespace(ns)",
      "4. getNamespace(ns)",
      "5. loadNamespace(name)",
      "6. withRestarts(stop(cond), retry_loadNamespace = function() NULL)",
      "7. withOneRestart(expr, restarts[[1L]])",
      "8. doWithOneRestart(return(expr), restart)"
     ]
    }
   ],
   "source": [
    "#install.package(devtools) or download data and put it in googledrive thingy\n",
    "#library(edmdata)\n",
    "\n",
    "install.packages(\"devtools\")\n",
    "devtools::install_github(\"tmsalab/edmdata\")\n",
    "data(\"items_narcissistic_personality_inventory\", package = \"edmdata\")\n",
    "head(items_narcissistic_personality_inventory)\n",
    "\n",
    "install.packages(\"poLCA\")\n",
    "library('poLCA')"
   ]
  },
  {
   "cell_type": "code",
   "execution_count": null,
   "metadata": {
    "id": "26roFnI4RQOx"
   },
   "outputs": [],
   "source": [
    "start_time <- Sys.time()\n",
    "mix_binom(items_narcissistic_personality_inventory, 8, 300, 100)\n",
    "cat(\"Total time:\",Sys.time()-start_time,\"(mins)\")"
   ]
  },
  {
   "cell_type": "code",
   "execution_count": null,
   "metadata": {
    "colab": {
     "base_uri": "https://localhost:8080/"
    },
    "id": "D6hi8aPbMFaG",
    "outputId": "0a207d9d-97b2-4ee2-a407-836b0297c428"
   },
   "outputs": [],
   "source": [
    "#data is 40 questions, 25 participants, 0 or 1 (25x40) \n",
    "\n",
    "#choosing best number of groups\n",
    "data= items_narcissistic_personality_inventory\n",
    "data=data+1\n",
    "\n",
    "library('poLCA')\n",
    "\n",
    "varnames<-paste0('Q',1:40)\n",
    "Qs <- paste(varnames, collapse = \",\")\n",
    "f <- as.formula(paste(\"cbind(\", Qs, \")~1 \"))\n",
    "\n",
    "X= as.data.frame(data[,varnames])\n",
    "X=X[complete.cases(X),]\n",
    "out2<-poLCA(f, X, nclass = 2)\n",
    "\n",
    "#now, how do we know the best number of classes to split on?\n",
    "#answer : use bics (also ask proff if there is better ways)\n",
    "\n",
    "nclasses=2:8\n",
    "\n",
    "model_bics= numeric(length(nclasses))\n",
    "for(i in nclasses){\n",
    "  outtemp=poLCA(f,X,nclass=i,maxiter = 2000)\n",
    "  assign(paste0('out',i),outtemp)\n",
    "  model_bics[i-1]=outtemp$bic\n",
    "}\n",
    "\n",
    "names(model_bics)=nclasses\n",
    "model_bics\n",
    "\n",
    "#best fitting is 8 classes!! :0\n",
    "#we can now try to find what each class means. Personalities? jobs? if they like stats?\n",
    "\n",
    "C=8\n",
    "\n",
    "\n"
   ]
  },
  {
   "cell_type": "markdown",
   "metadata": {
    "id": "nzo0GbKYJfmZ"
   },
   "source": [
    "# Testing with Mr. Turro's Data"
   ]
  },
  {
   "cell_type": "markdown",
   "metadata": {
    "id": "dRIvqJKgKHA3"
   },
   "source": [
    "## Grabbing Data"
   ]
  },
  {
   "cell_type": "markdown",
   "metadata": {
    "id": "VxS_XcK8KFKa"
   },
   "source": []
  },
  {
   "cell_type": "code",
   "execution_count": null,
   "metadata": {
    "id": "us7LyviaJiOp"
   },
   "outputs": [],
   "source": [
    "#doing same thing but with Mr. Turro's data\n",
    "\n",
    "# data has has answers for 20 questions from 1000 subjects\n",
    "data = read.csv(\"https://raw.githubusercontent.com/smturro2/URES-Project-2/master/Data/test/test_data.csv\",row.names = 1)\n",
    "data_matrix = as.matrix(data)\n",
    "print(dim(data_matrix))\n",
    "\n",
    "# True K has length 1000. The classes of each subject\n",
    "true_k = read.csv(\"https://raw.githubusercontent.com/smturro2/URES-Project-2/master/Data/test/test_k_vector.csv\",row.names = 1)\n",
    "true_k_matrix = as.matrix(true_k)\n",
    "print(dim(true_k_matrix))\n",
    "\n",
    "# True pi vector has length 4. The probability of being in a class\n",
    "true_pi = read.csv(\"https://raw.githubusercontent.com/smturro2/URES-Project-2/master/Data/test/test_pi_vector.csv\",row.names = 1)\n",
    "true_pi_matrix = as.matrix(true_pi)\n",
    "print(dim(true_pi_matrix))\n",
    "\n",
    "# True theta matrix is shape 4x20. How each class does on each question\n",
    "true_theta = read.csv(\"https://raw.githubusercontent.com/smturro2/URES-Project-2/master/Data/test/test_theta_matrix.csv\",row.names = 1)\n",
    "true_theta_matrix = as.matrix(true_theta)\n",
    "print(dim(true_theta_matrix))"
   ]
  },
  {
   "cell_type": "markdown",
   "metadata": {
    "id": "ZVE5Bv8DHAtI"
   },
   "source": [
    "## Running algo"
   ]
  },
  {
   "cell_type": "code",
   "execution_count": null,
   "metadata": {
    "id": "7J6TK6h-DPMr"
   },
   "outputs": [],
   "source": [
    "# convert data into matrix \n",
    "data = read.csv(\"https://raw.githubusercontent.com/smturro2/URES-Project-2/master/Data/test/test_data.csv\")\n",
    "colnames(data) = NULL\n",
    "data = data[,-1]\n",
    "data = as.matrix(data)\n",
    "dim(data)"
   ]
  },
  {
   "cell_type": "code",
   "execution_count": null,
   "metadata": {
    "id": "ZLlo2OrMHDP6"
   },
   "outputs": [],
   "source": [
    "# Run the algo and time how long it takes\n",
    "start_time <- Sys.time()\n",
    "test_output = mix_binom(data,4,500,100)\n",
    "cat(\"Total time:\",Sys.time()-start_time,\"(mins)\")\n",
    "\n",
    "# Run the algo as a data frame and time how long it takes\n",
    "start_time <- Sys.time()\n",
    "test_output = mix_binom(data.frame(data),4,500,100)\n",
    "cat(\"Total time:\",Sys.time()-start_time,\"(mins)\")"
   ]
  },
  {
   "cell_type": "code",
   "execution_count": null,
   "metadata": {
    "id": "W3qRN74vKtqg"
   },
   "outputs": [],
   "source": [
    "as.matrix(colMeans(test_output$prob))"
   ]
  },
  {
   "cell_type": "code",
   "execution_count": null,
   "metadata": {
    "id": "rZbwjCVwK7Uc"
   },
   "outputs": [],
   "source": [
    "true_pi_matrix"
   ]
  },
  {
   "cell_type": "code",
   "execution_count": null,
   "metadata": {
    "id": "h5wVXcORG_C7"
   },
   "outputs": [],
   "source": [
    "# Get average values\n",
    "pi_hat = as.matrix(colMeans(test_output$prob))\n",
    "k_hat = as.matrix(rowMeans(test_output$cate))\n",
    "#theta_hat = as.matrix(rowMeans(as.matrix(test_output$theta), dims = 2)) # todo\n",
    "\n",
    "cat(\"dimensions of avg parameters\",end=\"\\n\")\n",
    "cat(\"pi_hat -\",dim(pi_hat),end=\"\\n\")\n",
    "cat(\"k_hat -\",dim(k_hat),end=\"\\n\")\n",
    "#cat(\"theta_hat -\",dim(theta_hat),end=\"\\n\")"
   ]
  },
  {
   "cell_type": "code",
   "execution_count": null,
   "metadata": {
    "id": "sU_oDKcbL48y"
   },
   "outputs": [],
   "source": [
    "true_k_matrix"
   ]
  },
  {
   "cell_type": "code",
   "execution_count": null,
   "metadata": {
    "id": "GOEQObldMDlM"
   },
   "outputs": [],
   "source": [
    "k_hat"
   ]
  },
  {
   "cell_type": "code",
   "execution_count": null,
   "metadata": {
    "id": "vVkbGXtIQUwg"
   },
   "outputs": [],
   "source": [
    "install.packages(\"devtools\")"
   ]
  }
 ],
 "metadata": {
  "colab": {
   "collapsed_sections": [],
   "name": "Project2_R_code.ipynb",
   "provenance": [],
   "toc_visible": true
  },
  "kernelspec": {
   "display_name": "R",
   "language": "R",
   "name": "ir"
  },
  "language_info": {
   "codemirror_mode": "r",
   "file_extension": ".r",
   "mimetype": "text/x-r-source",
   "name": "R",
   "pygments_lexer": "r",
   "version": "3.6.1"
  }
 },
 "nbformat": 4,
 "nbformat_minor": 4
}
