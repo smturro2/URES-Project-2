{
 "cells": [
  {
   "cell_type": "markdown",
   "metadata": {},
   "source": [
    "## Imports"
   ]
  },
  {
   "cell_type": "code",
   "execution_count": 1,
   "metadata": {},
   "outputs": [],
   "source": [
    "import pandas as pd\n",
    "from MainPackage import MixtureModelBernoulli\n",
    "import numpy as np\n",
    "import matplotlib.pyplot as plt\n",
    "from sklearn.metrics import adjusted_rand_score\n",
    "import time"
   ]
  },
  {
   "cell_type": "markdown",
   "metadata": {},
   "source": [
    "# Run model"
   ]
  },
  {
   "cell_type": "code",
   "execution_count": null,
   "metadata": {
    "tags": []
   },
   "outputs": [],
   "source": [
    "num_classes = 4\n",
    "random_state = 100\n",
    "\n",
    "# Get data\n",
    "df = pd.read_csv(\"../Data/test_data.csv\",index_col=0)\n",
    "\n",
    "# Set up model\n",
    "C_list = MixtureModelBernoulli(num_classes=num_classes,\n",
    "                               random_state=random_state,\n",
    "                               burn_in=0,\n",
    "                               max_iter=1000)\n",
    "\n",
    "\n",
    "# fit the data to the model\n",
    "start_time = time.time()\n",
    "C_list.fit(df)\n",
    "total_time = time.time() - start_time\n",
    "\n",
    "print(\"DONE!\")\n",
    "print(f\"Total time: {round(total_time,5)} (secs)\")\n",
    "\n",
    "# Get parameter estimates\n",
    "k, theta, pi = C_list.get_params()"
   ]
  },
  {
   "cell_type": "markdown",
   "metadata": {
    "jp-MarkdownHeadingCollapsed": true,
    "tags": []
   },
   "source": [
    "# Print Parameters"
   ]
  },
  {
   "cell_type": "markdown",
   "metadata": {},
   "source": [
    "## Pi"
   ]
  },
  {
   "cell_type": "code",
   "execution_count": null,
   "metadata": {},
   "outputs": [],
   "source": [
    "pi = pd.DataFrame(pi)\n",
    "pi.columns = [\"Probability\"]\n",
    "pi.index = [f\"Cluster {x}\" for x in np.arange(0,len(pi)).astype(str)]\n",
    "display(pi)"
   ]
  },
  {
   "cell_type": "markdown",
   "metadata": {},
   "source": [
    "## Theta"
   ]
  },
  {
   "cell_type": "code",
   "execution_count": null,
   "metadata": {},
   "outputs": [],
   "source": [
    "theta = pd.DataFrame(theta)\n",
    "theta.columns = [f\"Item {x}\" for x in np.arange(1,theta.shape[1]+1).astype(str)]\n",
    "theta.index = [f\"Cluster {x}\" for x in np.arange(0,theta.shape[0]).astype(str)]\n",
    "display(theta)"
   ]
  },
  {
   "cell_type": "markdown",
   "metadata": {},
   "source": [
    "## K"
   ]
  },
  {
   "cell_type": "code",
   "execution_count": null,
   "metadata": {},
   "outputs": [],
   "source": [
    "k = pd.DataFrame(k)\n",
    "k.columns = [\"Avg Class\"]\n",
    "k.index = [f\"Subject {x}\" for x in np.arange(1,len(k)+1).astype(str)]\n",
    "display(k)"
   ]
  },
  {
   "cell_type": "markdown",
   "metadata": {},
   "source": [
    "## Class Membership"
   ]
  },
  {
   "cell_type": "code",
   "execution_count": null,
   "metadata": {},
   "outputs": [],
   "source": [
    "memebership = C_list.get_class_membership_scores()\n",
    "memebership = pd.DataFrame(memebership)\n",
    "memebership.columns = [f\"Cluster {x}\" for x in np.arange(0,memebership.shape[1]).astype(str)]\n",
    "memebership.index = [f\"Subject {x}\" for x in np.arange(1,memebership.shape[0]+1).astype(str)]\n",
    "display(memebership)"
   ]
  },
  {
   "cell_type": "markdown",
   "metadata": {
    "tags": []
   },
   "source": [
    "# Cluster Mapping\n",
    "It should be noted the cluster numbers do not align between the two clusterings. We will use the two k vectors to find the most accurate mapping between the two clusterings."
   ]
  },
  {
   "cell_type": "code",
   "execution_count": null,
   "metadata": {},
   "outputs": [],
   "source": [
    "# Get true k vector. We subject 1 to get 0 based index\n",
    "df_combined_k = pd.read_csv(\"../Data/test_k_vector.csv\",index_col=0) -1\n",
    "df_combined_k.columns = [\"True Class\"]\n",
    "\n",
    "# round predicted k\n",
    "df_combined_k[\"Pred Class\"] = k.round().astype(np.int64).values\n",
    "\n",
    "# Get freq table\n",
    "freq_table = df_combined_k.copy()\n",
    "freq_table[\"Ones\"] = 1\n",
    "freq_table = freq_table.pivot_table(columns=\"Pred Class\",\n",
    "                                    index=\"True Class\",\n",
    "                                    values=\"Ones\",\n",
    "                                    aggfunc=sum)\n",
    "freq_table = freq_table.fillna(0)\n",
    "freq_table"
   ]
  },
  {
   "cell_type": "markdown",
   "metadata": {},
   "source": [
    "The table above suggests that the predicted cluster 0 corresponds to the true cluster 1. And similarly:\n",
    "* 0->1\n",
    "* 1->3\n",
    "* 2->0\n",
    "* 3->2\n",
    "\n",
    "We will now relabel the predicted parameters so that the cluster numbers line up"
   ]
  },
  {
   "cell_type": "code",
   "execution_count": null,
   "metadata": {},
   "outputs": [],
   "source": [
    "mapping = [1,3,0,2]\n",
    "mapping_inv = [2,0,3,1]\n",
    "def cluster_mapping(x):\n",
    "    return mapping[x]\n",
    "\n",
    "# Map pred k\n",
    "df_combined_k_mapped = df_combined_k.copy()\n",
    "df_combined_k_mapped[\"Pred Class\"] = df_combined_k[\"Pred Class\"].apply(cluster_mapping)\n",
    "\n",
    "# Reorder pi\n",
    "df_combined_pi_mapped = pi.iloc[mapping_inv].copy()\n",
    "df_combined_pi_mapped.index = [f\"Cluster {x}\" for x in np.arange(0,len(pi)).astype(str)]\n",
    "df_combined_pi_mapped.columns = [\"Pred Prob\"]\n",
    "\n",
    "# Reorder theta\n",
    "df_pred_theta_mapped = theta.iloc[mapping_inv].copy()\n",
    "df_pred_theta_mapped.index = [f\"Cluster {x}\" for x in np.arange(0,theta.shape[0]).astype(str)]"
   ]
  },
  {
   "cell_type": "markdown",
   "metadata": {},
   "source": [
    "# Comparing K vectors with Adjusted Rand Score\n",
    "Adjusted rand score is a score between [0,1] which compares two clusterings. 1 indicating the same clustering, and 0 indicating random cluster labels."
   ]
  },
  {
   "cell_type": "code",
   "execution_count": null,
   "metadata": {},
   "outputs": [],
   "source": [
    "display(df_combined_k_mapped.T)\n",
    "rand_score = adjusted_rand_score(df_combined_k_mapped[\"True Class\"],\n",
    "                                 df_combined_k_mapped[\"Pred Class\"])\n",
    "print(f\"rand score : {rand_score}\")"
   ]
  },
  {
   "cell_type": "markdown",
   "metadata": {},
   "source": [
    "With a score of .968 the clusters are almost equivalent. This gives us strong evidence the algorithm is able to accurately cluster the subjects."
   ]
  },
  {
   "cell_type": "markdown",
   "metadata": {},
   "source": [
    "# Comparing Pi Vector"
   ]
  },
  {
   "cell_type": "code",
   "execution_count": null,
   "metadata": {},
   "outputs": [],
   "source": [
    "# Get true pi vector\n",
    "df_true_pi = pd.read_csv(\"../Data/test_pi_vector.csv\",index_col=0)\n",
    "df_true_pi.index = [f\"Cluster {x}\" for x in np.arange(0,len(pi)).astype(str)]\n",
    "# add to combined df\n",
    "df_combined_pi_mapped[\"True Prob\"] = df_true_pi[\"Probability\"]\n",
    "display(df_combined_pi_mapped)"
   ]
  },
  {
   "cell_type": "markdown",
   "metadata": {},
   "source": [
    "# Comparing Theta Matrix"
   ]
  },
  {
   "cell_type": "code",
   "execution_count": null,
   "metadata": {},
   "outputs": [],
   "source": [
    "# Get true pi vector\n",
    "df_true_theta = pd.read_csv(\"../Data/test_theta_matrix.csv\",index_col=0)\n",
    "df_true_theta.index = [f\"Cluster {x}\" for x in np.arange(0,len(pi)).astype(str)]\n",
    "print(\"True Theta Matrix\")\n",
    "display(df_true_theta)\n",
    "print(\"Pred Theta Matrix\")\n",
    "display(df_pred_theta_mapped)"
   ]
  },
  {
   "cell_type": "markdown",
   "metadata": {},
   "source": [
    "# Analyze Convergence for thetas"
   ]
  },
  {
   "cell_type": "code",
   "execution_count": null,
   "metadata": {},
   "outputs": [],
   "source": [
    "np.random.RandomState(100)\n",
    "number_of_rows = 5\n",
    "number_of_cols = 2\n",
    "samples_theta_params = C_list.samples_theta_params\n",
    "print(samples_theta_params.shape)\n",
    "\n",
    "# Get random indexes\n",
    "c_range = [0,1,2,3]\n",
    "j_range = np.random.choice(np.arange(0,samples_theta_params.shape[2]),number_of_cols)\n",
    "\n",
    "\n",
    "plt.figure(figsize=(10,20))\n",
    "num_plot = 1\n",
    "for c in c_range:\n",
    "    for j in j_range:\n",
    "        running_avg = np.zeros(samples_theta_params.shape[0])\n",
    "        for num_sample in range(1,samples_theta_params.shape[0]):\n",
    "            running_avg[num_sample] = np.average(samples_theta_params[:num_sample, c, j])\n",
    "\n",
    "        plt.subplot(number_of_rows,number_of_cols,num_plot)\n",
    "        # Plot samples\n",
    "        plt.plot(samples_theta_params[:, c, j], \".r\", label=\"Sample\",alpha=.15)\n",
    "        # Plot running avg\n",
    "        plt.plot(running_avg, \"-k,\", label=\"Running\\nAverage\",alpha=.5)\n",
    "        # plot true val\n",
    "        truevals = df_true_theta.iloc[mapping[c],j] * np.ones_like(running_avg)\n",
    "        plt.plot(truevals, \"--b,\", label=\"True Val\")\n",
    "        \n",
    "        plt.xlabel(\"Sample Number\")\n",
    "        plt.ylabel(\"Parameter Value\")\n",
    "        plt.title(f\"Convergence of theta[{c},{j}]\")\n",
    "        plt.legend(bbox_to_anchor = (1.05, 0.6))\n",
    "        num_plot += 1\n",
    "plt.tight_layout()"
   ]
  },
  {
   "cell_type": "markdown",
   "metadata": {},
   "source": [
    "# Convergence Analysis for k"
   ]
  },
  {
   "cell_type": "code",
   "execution_count": null,
   "metadata": {},
   "outputs": [],
   "source": [
    "samples_class_assignments = C_list.samples_class_assignments\n",
    "print(samples_class_assignments.shape)\n",
    "\n",
    "# Get random indexes\n",
    "i_range = np.random.choice(np.arange(0,samples_class_assignments.shape[1]),number_of_cols*number_of_rows)\n",
    "\n",
    "plt.figure(figsize=(10,20))\n",
    "num_plot = 1\n",
    "for i in i_range:\n",
    "    running_avg = np.zeros(samples_class_assignments.shape[0])\n",
    "    for num_sample in range(1,samples_class_assignments.shape[0]):\n",
    "        running_avg[num_sample] = np.average(samples_class_assignments[:num_sample, i])\n",
    "\n",
    "    plt.subplot(number_of_rows,number_of_cols,num_plot,alpha=.5)\n",
    "    # Plot samples\n",
    "    plt.plot(samples_class_assignments[:, i], \".r\", label=\"Sample\",alpha=.15)\n",
    "    # Plot running avg\n",
    "    plt.plot(running_avg, \"-k,\", label=\"Running\\nAverage\")\n",
    "    # plot true val\n",
    "    truevals = mapping_inv[df_combined_k_mapped.iloc[i,0]] * np.ones_like(running_avg)\n",
    "    plt.plot(truevals, \"--b,\", label=\"True Val\")\n",
    "    plt.xlabel(\"Sample Number\")\n",
    "    plt.ylabel(\"Parameter Value\")\n",
    "    plt.title(f\"Convergence of k[{i}]\")\n",
    "    plt.legend(bbox_to_anchor = (1.05, 0.6))\n",
    "    plt.ylim(-.5,3.5)\n",
    "    num_plot += 1\n",
    "plt.tight_layout()"
   ]
  },
  {
   "cell_type": "markdown",
   "metadata": {},
   "source": [
    "# Convergence Analysis for pi"
   ]
  },
  {
   "cell_type": "code",
   "execution_count": null,
   "metadata": {},
   "outputs": [],
   "source": [
    "samples_class_probabilities = C_list.samples_class_probabilities\n",
    "print(samples_class_probabilities.shape)\n",
    "\n",
    "\n",
    "plt.figure(figsize=(10,20))\n",
    "num_plot = 1\n",
    "for c in c_range:\n",
    "    running_avg = np.zeros(samples_class_probabilities.shape[0])\n",
    "    for num_sample in range(1,samples_class_probabilities.shape[0]):\n",
    "        running_avg[num_sample] = np.average(samples_class_probabilities[:num_sample, c])\n",
    "\n",
    "    plt.subplot(number_of_rows,number_of_cols,num_plot)\n",
    "    # Plot samples\n",
    "    plt.plot(samples_class_probabilities[:, c], \".r\", label=\"Sample\",alpha=.15)\n",
    "    # Plot running avg\n",
    "    plt.plot(running_avg, \"-k,\", label=\"Running\\nAverage\",alpha=.5)\n",
    "    # plot true val\n",
    "    truevals = df_combined_pi_mapped.iloc[mapping[c],1] * np.ones_like(running_avg)\n",
    "    plt.plot(truevals, \"--b,\", label=\"True Val\")\n",
    "    plt.xlabel(\"Sample Number\")\n",
    "    plt.ylabel(\"Parameter Value\")\n",
    "    plt.title(f\"Convergence of pi[{c}]\")\n",
    "    plt.legend(bbox_to_anchor = (1.05, 0.6))\n",
    "    plt.ylim(0,1)\n",
    "    num_plot += 1\n",
    "plt.tight_layout()"
   ]
  }
 ],
 "metadata": {
  "kernelspec": {
   "display_name": "Python 3 (ipykernel)",
   "language": "python",
   "name": "python3"
  },
  "language_info": {
   "codemirror_mode": {
    "name": "ipython",
    "version": 3
   },
   "file_extension": ".py",
   "mimetype": "text/x-python",
   "name": "python",
   "nbconvert_exporter": "python",
   "pygments_lexer": "ipython3",
   "version": "3.9.7"
  }
 },
 "nbformat": 4,
 "nbformat_minor": 4
}
